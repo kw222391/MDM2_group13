{
 "cells": [
  {
   "cell_type": "markdown",
   "id": "c815a073-e6b4-4361-82b6-eed0900fb6e7",
   "metadata": {},
   "source": [
    "### Installing Dependencies"
   ]
  },
  {
   "cell_type": "code",
   "execution_count": 28,
   "id": "cba494d3-c951-4b52-886d-4c1bc469a9ed",
   "metadata": {},
   "outputs": [],
   "source": [
    "import pandas as pd\n",
    "import numpy as np\n",
    "from scipy.optimize import minimize\n",
    "from sklearn.neighbors import NearestNeighbors"
   ]
  },
  {
   "cell_type": "markdown",
   "id": "501a16e7-5058-40de-ba75-5d7f28de4a3c",
   "metadata": {},
   "source": [
    "### Preprocessing and Cleaning Data"
   ]
  },
  {
   "cell_type": "code",
   "execution_count": 86,
   "id": "be5c715b-e63f-4468-9fbe-f53e6fa4c529",
   "metadata": {},
   "outputs": [
    {
     "name": "stdout",
     "output_type": "stream",
     "text": [
      "192.0\n",
      "Cleaned data saved to 'breed_data.csv'\n",
      "Cleaned data saved to 'cluster_data.csv'\n"
     ]
    }
   ],
   "source": [
    "df = pd.read_csv(\"dogdata.csv\")\n",
    "# Cleaning:\n",
    "# Remove rows with NaN values \n",
    "df = df.dropna()\n",
    "# Remove rows that have 'of' as their popularity value\n",
    "mask = df['popularity'] != 'of'\n",
    "df = df[mask]\n",
    "# Preprocessing:\n",
    "# Calculate average height\n",
    "df['avg_height'] = (df['min_height'] + df['max_height']) / 2\n",
    "# Calculate average weight\n",
    "df['avg_weight'] = (df['min_weight'] + df['max_weight']) / 2\n",
    "# Calculate max value of max_height\n",
    "max_height = df['max_height'].max()\n",
    "# Calculate max value of max_weight\n",
    "max_weight = df['max_weight'].max()\n",
    "# Make sure popularity data is in float form\n",
    "df['popularity'] = df['popularity'].astype(float)\n",
    "# Calculate max value of popularity\n",
    "max_pop = df['popularity'].max()\n",
    "print(max_pop)\n",
    "# Apply Max Scaling\n",
    "df['scaled_avg_height'] = df['avg_height'] / max_height\n",
    "df['scaled_avg_weight'] = df['avg_weight'] / max_weight\n",
    "df['scaled_pop'] = df['popularity'] / max_pop\n",
    "# Put Scaled and Relevant data into new dataframe\n",
    "breed_data = df[['scaled_pop','scaled_avg_height','scaled_avg_weight','grooming_frequency_value','shedding_value','energy_level_value','trainability_value','demeanor_value']]\n",
    "breed_data = pd.concat([df.iloc[:,0], breed_data], axis=1)\n",
    "breed_data.columns.values[0] = 'Breeds'\n",
    "# Save the DataFrame to a new CSV file\n",
    "breed_data.to_csv('breed_data.csv', index=False)\n",
    "print(\"Cleaned data saved to 'breed_data.csv'\")\n",
    "\n",
    "# Repeat this process for the cluster (breed groups) data\n",
    "df2 = pd.read_csv('merged_data_latest.csv')\n",
    "# Store the list of breeds in each group in a dictionary so that we can output them to the user\n",
    "breed_clusters = df2.groupby('Cluster')['Breed'].apply(list).to_dict()\n",
    "# Preprocessing:\n",
    "df2 = df2.drop(columns=['Breed', 'popularity'])\n",
    "df2 = df2.apply(pd.to_numeric, errors='coerce').dropna()\n",
    "df2 = df2.groupby('Cluster').mean()\n",
    "df2.head()\n",
    "# Calculate average height\n",
    "df2['avg_height'] = (df2['min_height'] + df2['max_height']) / 2\n",
    "# Calculate average weight\n",
    "df2['avg_weight'] = (df2['min_weight'] + df2['max_weight']) / 2\n",
    "# Apply Max Scaling\n",
    "df2['scaled_avg_height'] = df2['avg_height'] / max_height\n",
    "df2['scaled_avg_weight'] = df2['avg_weight'] / max_weight\n",
    "cluster_data = df2[['scaled_avg_height','scaled_avg_weight','grooming_frequency_value','shedding_value','energy_level_value','trainability_value','demeanor_value']]\n",
    "# Save the DataFrame to a new CSV file\n",
    "cluster_data.to_csv('cluster_data.csv', index=False)\n",
    "print(\"Cleaned data saved to 'cluster_data.csv'\")"
   ]
  },
  {
   "cell_type": "markdown",
   "id": "d0bfc685-a353-472c-a1e0-4ccb0f49b1b2",
   "metadata": {},
   "source": [
    "### Defining function for determining optimal breed combination\n",
    "1. This first function includes a penalty hyperparameter in the loss function. This hyperparameter would need to be tuned by using some real mixed breed data in order to justify the choice of value for it."
   ]
  },
  {
   "cell_type": "code",
   "execution_count": 82,
   "id": "319201fc-a03e-4d4c-aece-bba36fbf3731",
   "metadata": {},
   "outputs": [],
   "source": [
    "def estimate_dog_breed(breed_data, y):\n",
    "    # Prepare data for use in loss function\n",
    "    data = breed_data.drop(columns=['Breeds', 'scaled_pop'])\n",
    "    B = np.asarray(data).T\n",
    "    # Extract popularity data to penalise rare breeds in loss function. The hope is that this will give more realistic mixtures.\n",
    "    pop = breed_data['scaled_pop']\n",
    "    # pop_penalty = 0.05\n",
    "    # Defining the loss function (SSE) to minimise\n",
    "    def lossSSE(w):\n",
    "        x = B @ w\n",
    "        diffsqrd = (x - y) ** 2\n",
    "        SSE = diffsqrd.sum() # + pop_penalty*(w @ pop) # SSE with pop penalty\n",
    "        return SSE\n",
    "\n",
    "    # Defining constraint: Elements of w must sum to 1\n",
    "    constraint = {'type': 'eq', 'fun': lambda w: np.sum(w) - 1}\n",
    "\n",
    "    # Initial guess of weights (Random values between 0 and 1)\n",
    "    w0 = np.random.uniform(0, 1, size=B.shape[1])\n",
    "    # Normalise initial guess to meet constraint\n",
    "    w0 /= np.sum(w0)\n",
    "\n",
    "    # Define bounds [0,1] for all weights\n",
    "    bounds = [(0, 1) for _ in range(B.shape[1])]\n",
    "\n",
    "    # Minimize using SLSQP (supports constraints)\n",
    "    result = minimize(lossSSE, w0, method='SLSQP', bounds=bounds, constraints=[constraint])\n",
    "\n",
    "    # Discard weights of less than 0.25\n",
    "    w_adjusted = np.where(result.x < 0.25, 0, result.x)\n",
    "\n",
    "    # Renormalize to sum to 1\n",
    "    if np.sum(w_adjusted) > 0:\n",
    "        w_adjusted /= np.sum(w_adjusted)  # Normalize to sum to 1\n",
    "        \n",
    "    return w_adjusted\n",
    "\n",
    "# Defining some functions that allow us to analyse and display results:\n",
    "\n",
    "def get_breed0(w_adjusted):\n",
    "    breed_indices = [i for i in range(len(w_adjusted)) if w_adjusted[i] != 0]\n",
    "    if len(breed_indices) == 1:\n",
    "        return breed_indices[0]\n",
    "    else:\n",
    "        return None\n",
    "\n",
    "def get_breeds(w_adjusted):\n",
    "    breed_indices = [i for i in range(len(w_adjusted)) if w_adjusted[i] != 0]\n",
    "    if breed_indices:\n",
    "        return breed_indices\n",
    "    else:\n",
    "        return None\n",
    "    \n",
    "def print_breed_guess(w_adjusted):\n",
    "    # Print results\n",
    "    percents = [round(i*100, 0) for i in w_adjusted if i != 0]\n",
    "    breeds = [breed_data.iloc[i, 0] for i in range(len(w_adjusted)) if w_adjusted[i] != 0]\n",
    "    if not breeds:\n",
    "        print(\"We were unable to determine a breed mixture for your dog\")\n",
    "    else:\n",
    "        print('We estimate your dog to be:')\n",
    "        for i in range(len(breeds)):\n",
    "            print(percents[i], '% ', breeds[i])"
   ]
  },
  {
   "cell_type": "markdown",
   "id": "0e10c9cb-4870-4c3b-8ad2-03e6fbf55657",
   "metadata": {},
   "source": [
    "2. Here we will redefine estimate_dog_breed() with MSE as the loss function instead of SSE. Why? Because MSE is generally favoured to SSE. We will compare the performance of the two functions later and select the best performing one."
   ]
  },
  {
   "cell_type": "code",
   "execution_count": 81,
   "id": "1a4d45e6-170e-40f9-9e13-d0e618d34246",
   "metadata": {},
   "outputs": [],
   "source": [
    "def estimate_dog_breedMSE(breed_data, y):\n",
    "    # Prepare data for use in loss function\n",
    "    data = breed_data.drop(columns=['Breeds', 'scaled_pop'])\n",
    "    B = np.asarray(data).T\n",
    "    # Extract popularity data to penalise rare breeds in loss function. The hope is that this will give more realistic mixtures.\n",
    "    pop = breed_data['scaled_pop']\n",
    "    # pop_penalty = 0.05\n",
    "    # Defining the loss function (SSE) to minimise\n",
    "    def lossSSE(w):\n",
    "        x = B @ w\n",
    "        diffsqrd = (x - y) ** 2\n",
    "        MSE = diffsqrd.mean() # + pop_penalty*(w @ pop) # SSE with pop penalty\n",
    "        return MSE\n",
    "\n",
    "    # Defining constraint: Elements of w must sum to 1\n",
    "    constraint = {'type': 'eq', 'fun': lambda w: np.sum(w) - 1}\n",
    "\n",
    "    # Initial guess of weights (Random values between 0 and 1)\n",
    "    w0 = np.random.uniform(0, 1, size=B.shape[1])\n",
    "    # Normalise initial guess to meet constraint\n",
    "    w0 /= np.sum(w0)\n",
    "\n",
    "    # Define bounds [0,1] for all weights\n",
    "    bounds = [(0, 1) for _ in range(B.shape[1])]\n",
    "\n",
    "    # Minimize using SLSQP (supports constraints)\n",
    "    result = minimize(lossSSE, w0, method='SLSQP', bounds=bounds, constraints=[constraint])\n",
    "\n",
    "    # Discard weights of less than 0.25\n",
    "    w_adjusted = np.where(result.x < 0.25, 0, result.x)\n",
    "\n",
    "    # Renormalize to sum to 1\n",
    "    if np.sum(w_adjusted) > 0:\n",
    "        w_adjusted /= np.sum(w_adjusted)  # Normalize to sum to 1\n",
    "        \n",
    "    return w_adjusted"
   ]
  },
  {
   "cell_type": "markdown",
   "id": "1cf17653-405c-412c-bb2c-f5007aa64919",
   "metadata": {},
   "source": [
    "3. Here, instead of using a penalty and hyperparameter to deal with the issue of returning highly improbable breed combinations, we will simply only use the 50 most popular breeds in our dataset. This is simply a suggestioin of how we could deal with the issue of popularity."
   ]
  },
  {
   "cell_type": "code",
   "execution_count": null,
   "id": "087dc82a-81f0-4fb9-bd2e-f32a04435905",
   "metadata": {},
   "outputs": [],
   "source": [
    "def estimate_dog_breed_pop(breed_data, y):\n",
    "    # Extract only the 50 most popular dog breeds\n",
    "    scaled_val = 50 / max_pop\n",
    "    most_pop = breed_data['scaled_pop'] <= scaled_val\n",
    "    pop_breed_data = breed_data[most_pop]\n",
    "    pop_data = pop_breed_data.drop(columns=['Breeds', 'scaled_pop'])\n",
    "    Bpop = np.asarray(pop_data).T\n",
    "    # Defining the loss function (SSE) to minimise\n",
    "    def loss(w):\n",
    "        x = Bpop @ w\n",
    "        diffsqrd = (x - y) ** 2\n",
    "        return diffsqrd.sum() # SSE\n",
    "\n",
    "    # Defining constraint: Elements of w must sum to 1\n",
    "    constraint = {'type': 'eq', 'fun': lambda w: np.sum(w) - 1}\n",
    "\n",
    "    # Initial guess of weights (Random values between 0 and 1)\n",
    "    w0 = np.random.uniform(0, 1, size=Bpop.shape[1])\n",
    "    # Normalise initial guess to meet constraint\n",
    "    w0 /= np.sum(w0)\n",
    "\n",
    "    # Define bounds [0,1] for all weights\n",
    "    bounds = [(0, 1) for _ in range(Bpop.shape[1])]\n",
    "\n",
    "    # Minimize using SLSQP (supports constraints)\n",
    "    result = minimize(loss, w0, method='SLSQP', bounds=bounds, constraints=[constraint])\n",
    "\n",
    "    # Discard weights of less than 0.25\n",
    "    w_adjusted = np.where(result.x < 0.25, 0, result.x)\n",
    "\n",
    "    # Renormalize to sum to 1\n",
    "    if np.sum(w_adjusted) > 0:\n",
    "        w_adjusted /= np.sum(w_adjusted)  # Normalize to sum to 1\n",
    "    # Print results\n",
    "    percents = [round(i*100, 0) for i in w_adjusted if i != 0]\n",
    "    breeds = [pop_breed_data.iloc[i, 0] for i in range(len(w_adjusted)) if w_adjusted[i] != 0]\n",
    "    print('We estimate your dog to be:')\n",
    "    for i in range(len(breeds)):\n",
    "        print(percents[i], '% ', breeds[i])"
   ]
  },
  {
   "cell_type": "markdown",
   "id": "2b2e56d6-45f1-4c8f-ae68-fdb57925972d",
   "metadata": {},
   "source": [
    "To offer the user with some more general information we will, aswell as proposing a breed mixture, return a group/s of dogs that their dog is most similar to. This will be done by finding the nearest cluster centroid (of the AKC feature data) to the input dog."
   ]
  },
  {
   "cell_type": "code",
   "execution_count": 76,
   "id": "04558acc-1fc4-45cb-be11-fd3468b6f94e",
   "metadata": {},
   "outputs": [],
   "source": [
    "# Use Nearest Neighour from scikit learn to allow te nearest cluster centroid of any datapoint (i.e. input dog feature vector) to be found\n",
    "C = np.asarray(cluster_data)\n",
    "classes = np.arange(len(C[:,0]))\n",
    "nn = NearestNeighbors(n_neighbors=3)\n",
    "nn.fit(C)\n",
    "\n",
    "def estimate_dog_cluster(classes, y):\n",
    "    point = np.asarray([np.asarray(y)])\n",
    "    # Find the nearest neighbor\n",
    "    distance, indices = nn.kneighbors(point)\n",
    "    nearest_class = classes[indices[0]]\n",
    "    for i in range(len(nearest_class)):\n",
    "        if i == 0:\n",
    "            print(\"You're dog fits best in this dog group:\", nearest_class[i])\n",
    "            print('The dogs of this group are:', breed_clusters.get(nearest_class[i]))\n",
    "        else:\n",
    "            print(\"You're dog may also fit in this dog group:\", nearest_class[i])\n",
    "            print('The dogs of this group are:', breed_clusters.get(nearest_class[i]))"
   ]
  },
  {
   "cell_type": "markdown",
   "id": "5fa2598c-94cd-49ae-b0e3-532520f247d7",
   "metadata": {},
   "source": [
    "### Tests"
   ]
  },
  {
   "cell_type": "code",
   "execution_count": 83,
   "id": "bd1e7aa0-3e7b-43ba-9596-444fa8f5eb4d",
   "metadata": {},
   "outputs": [
    {
     "name": "stdout",
     "output_type": "stream",
     "text": [
      "We estimate your dog to be:\n",
      "100.0 %  Affenpinscher\n",
      "You're dog fits best in this dog group: 17\n",
      "The dogs of this group are: ['American Eskimo Dog', 'Japanese Spitz', 'Miniature Schnauzer', 'Papillon', 'Parson Russell Terrier']\n",
      "You're dog may also fit in this dog group: 10\n",
      "The dogs of this group are: ['American Bulldog', 'Bichon Frise', 'Bulldog', 'French Bulldog', 'Havanese']\n",
      "You're dog may also fit in this dog group: 28\n",
      "The dogs of this group are: ['Beagle', 'Coton de Tulear', 'Rat Terrier', 'Wetterhoun']\n"
     ]
    }
   ],
   "source": [
    "data = breed_data.drop(columns=['Breeds', 'scaled_pop'])\n",
    "assert get_breed0(estimate_dog_breed(breed_data, data.iloc[0])) == 0, \"Should be classed as breed 0, i.e Affenpinscher\"\n",
    "print_breed_guess(estimate_dog_breed(breed_data, data.iloc[0]))\n",
    "estimate_dog_cluster(classes, data.iloc[0])"
   ]
  },
  {
   "cell_type": "markdown",
   "id": "ffc67768-f97d-4c30-85e6-8af48102284d",
   "metadata": {},
   "source": [
    "### Accuracy"
   ]
  },
  {
   "cell_type": "code",
   "execution_count": null,
   "id": "5445f5cf-878b-4bd6-bdf9-b860fa573576",
   "metadata": {},
   "outputs": [],
   "source": [
    "# Calculating Accuracy for SSE function\n",
    "count = 0\n",
    "for i in range(len(data)-1):\n",
    "    if i == get_breed0(estimate_dog_breed(breed_data, data.iloc[i])):\n",
    "        count += 1\n",
    "    if i%5==0:\n",
    "        print(\"Breed\", i, \"complete.\")\n",
    "accuracy_SSE = count*100/len(data)\n",
    "print(\"Accuracy using SSE loss on Pure Breed Data = \", accuracy_SSE, \"%\")\n",
    "# SSE Accuracy ~ 63 %"
   ]
  },
  {
   "cell_type": "code",
   "execution_count": null,
   "id": "a173ed0a-dde1-4bfc-84b8-9a4e486cacc2",
   "metadata": {},
   "outputs": [],
   "source": [
    "# Calculating Accuracy for MSE function\n",
    "count = 0\n",
    "for i in range(len(data)-1):\n",
    "    if i == get_breed0(estimate_dog_breedMSE(breed_data, data.iloc[i])):\n",
    "        count += 1\n",
    "    if i%5==0:\n",
    "        print(\"Breed\", i, \"complete.\")\n",
    "accuracy_MSE = count*100/len(data)\n",
    "print(\"Accuracy using MSE loss on Pure Breed Data = \", accuracy_MSE, \"%\")\n",
    "# MSE Accuracy ~ 48 %"
   ]
  },
  {
   "cell_type": "markdown",
   "id": "6640ceeb-41d0-43d6-b2fd-4f7af8cf7ec8",
   "metadata": {},
   "source": [
    "Interestingly, a SSE loss function outperforms a MSE loss function on a metric of classification accuracy for pure breeds. So we have decided to use SSE as the loss function."
   ]
  },
  {
   "cell_type": "markdown",
   "id": "4b5b2e82-93ca-4cce-85bb-6fcf0d2e9bcd",
   "metadata": {},
   "source": [
    "### Taking User inputs"
   ]
  },
  {
   "cell_type": "code",
   "execution_count": 118,
   "id": "68a59591-8453-4058-a287-988cb6b08dc0",
   "metadata": {},
   "outputs": [
    {
     "name": "stdin",
     "output_type": "stream",
     "text": [
      "How old is your dog in earth years? 10\n"
     ]
    }
   ],
   "source": [
    "age = int(input('How old is your dog in earth years?'))\n",
    "if age <= 3:\n",
    "    print(\"Please understand that your dog is still young and may not have yet developed all of the attributes of it's breed or breed mixture. This makes it far more difficult to guess it's breed / breed mixture.\")"
   ]
  },
  {
   "cell_type": "code",
   "execution_count": 119,
   "id": "f501b73c-4f33-440c-b9c3-570eecc4dd8d",
   "metadata": {},
   "outputs": [
    {
     "name": "stdin",
     "output_type": "stream",
     "text": [
      "What height is your dog (cm)? 30\n"
     ]
    }
   ],
   "source": [
    "height = int(input('What height is your dog (cm)?'))\n",
    "scaled_height = height / max_height"
   ]
  },
  {
   "cell_type": "code",
   "execution_count": 120,
   "id": "ed648bf9-386a-419c-b234-63b48921636b",
   "metadata": {},
   "outputs": [
    {
     "name": "stdin",
     "output_type": "stream",
     "text": [
      "What weight is your dog (kg)? 10\n"
     ]
    }
   ],
   "source": [
    "weight = int(input('What weight is your dog (kg)?'))\n",
    "scaled_weight = weight / max_weight"
   ]
  },
  {
   "cell_type": "code",
   "execution_count": 122,
   "id": "bb678d32-2cfc-4ab2-bc4c-02b532cdcaf3",
   "metadata": {},
   "outputs": [
    {
     "name": "stdout",
     "output_type": "stream",
     "text": [
      "0 2-3 Times a Week Brushing\n",
      "1 Daily Brushing\n",
      "2 Occasional Bath/Brush\n",
      "3 Weekly Brushing\n",
      "4 Specialty/Professional\n"
     ]
    },
    {
     "name": "stdin",
     "output_type": "stream",
     "text": [
      "From the above unordered list, enter the number that corresponds to the option that best describes your dogs grooming demands. 2\n"
     ]
    }
   ],
   "source": [
    "groomingvals = [i for i in df['grooming_frequency_value'].dropna().unique()]\n",
    "groomingfreqs = [i for i in df['grooming_frequency_category'].dropna().unique()]\n",
    "for i in groomingfreqs:\n",
    "    print(groomingfreqs.index(i), i)\n",
    "groomingval = groomingvals[int(input('From the above unordered list, enter the number that corresponds to the option that best describes your dogs grooming demands.'))]"
   ]
  },
  {
   "cell_type": "code",
   "execution_count": 123,
   "id": "44c43d66-2af2-48df-aa4a-0892c94436e2",
   "metadata": {},
   "outputs": [
    {
     "name": "stdout",
     "output_type": "stream",
     "text": [
      "0 Seasonal\n",
      "1 Infrequent\n",
      "2 Occasional\n",
      "3 Regularly\n",
      "4 Frequent\n"
     ]
    },
    {
     "name": "stdin",
     "output_type": "stream",
     "text": [
      "From the above unordered list, enter the number that corresponds to the option that best describes how frequently your dog sheds it's fur. 0\n"
     ]
    }
   ],
   "source": [
    "sheddingvals = [i for i in df['shedding_value'].dropna().unique()]\n",
    "sheddingfreqs = [i for i in df['shedding_category'].dropna().unique()]\n",
    "for i in sheddingfreqs:\n",
    "    print(sheddingfreqs.index(i), i)\n",
    "sheddingval = sheddingvals[int(input(\"From the above unordered list, enter the number that corresponds to the option that best describes how frequently your dog sheds it's fur.\"))]"
   ]
  },
  {
   "cell_type": "code",
   "execution_count": 124,
   "id": "08714da7-025b-46e5-8131-7d2954d820f7",
   "metadata": {},
   "outputs": [
    {
     "name": "stdout",
     "output_type": "stream",
     "text": [
      "0 Regular Exercise\n",
      "1 Energetic\n",
      "2 Needs Lots of Activity\n",
      "3 Couch Potato\n",
      "4 Calm\n"
     ]
    },
    {
     "name": "stdin",
     "output_type": "stream",
     "text": [
      "From the above unordered list, enter the number that corresponds to the option that best describes your dog's energy level. 4\n"
     ]
    }
   ],
   "source": [
    "energyvals = [i for i in df['energy_level_value'].dropna().unique()]\n",
    "energycategs = [i for i in df['energy_level_category'].dropna().unique()]\n",
    "for i in energycategs:\n",
    "    print(energycategs.index(i), i)\n",
    "energyval = energyvals[int(input(\"From the above unordered list, enter the number that corresponds to the option that best describes your dog's energy level.\"))]"
   ]
  },
  {
   "cell_type": "code",
   "execution_count": 125,
   "id": "c98719f8-f2fb-4abe-8289-9c01739ba7d4",
   "metadata": {},
   "outputs": [
    {
     "name": "stdout",
     "output_type": "stream",
     "text": [
      "0 Easy Training\n",
      "1 May be Stubborn\n",
      "2 Eager to Please\n",
      "3 Independent\n",
      "4 Agreeable\n"
     ]
    },
    {
     "name": "stdin",
     "output_type": "stream",
     "text": [
      "From the above unordered list, enter the number that corresponds to the option that best describes how easy your dog is to train. 4\n"
     ]
    }
   ],
   "source": [
    "trainabilityvals = [i for i in df['trainability_value'].dropna().unique()]\n",
    "trainabilitycategs = [i for i in df['trainability_category'].dropna().unique()]\n",
    "for i in trainabilitycategs:\n",
    "    print(trainabilitycategs.index(i), i)\n",
    "trainabilityval = trainabilityvals[int(input(\"From the above unordered list, enter the number that corresponds to the option that best describes how easy your dog is to train.\"))]"
   ]
  },
  {
   "cell_type": "code",
   "execution_count": 126,
   "id": "7f53a60e-dfa2-466b-8687-80966d0c3cfc",
   "metadata": {},
   "outputs": [
    {
     "name": "stdout",
     "output_type": "stream",
     "text": [
      "0 Outgoing\n",
      "1 Aloof/Wary\n",
      "2 Friendly\n",
      "3 Alert/Responsive\n",
      "4 Reserved with Strangers\n"
     ]
    },
    {
     "name": "stdin",
     "output_type": "stream",
     "text": [
      "From the above unordered list, enter the number that corresponds to the option that best describes the demeanor of your dog. 0\n"
     ]
    }
   ],
   "source": [
    "demeanorvals = [i for i in df['demeanor_value'].dropna().unique()]\n",
    "demeanorcategs = [i for i in df['demeanor_category'].dropna().unique()]\n",
    "for i in demeanorcategs:\n",
    "    print(demeanorcategs.index(i), i)\n",
    "demeanorval = demeanorvals[int(input(\"From the above unordered list, enter the number that corresponds to the option that best describes the demeanor of your dog.\"))]"
   ]
  },
  {
   "cell_type": "code",
   "execution_count": 127,
   "id": "1fb50b52-7aff-464a-8aef-fe32750b25be",
   "metadata": {},
   "outputs": [
    {
     "name": "stdout",
     "output_type": "stream",
     "text": [
      "We estimate your dog to be:\n",
      "100.0 %  French Bulldog\n",
      "You're dog fits best in these dog groups with the given weighting:\n",
      "100.0 % group 33\n",
      "The dogs of this group are: ['Basset Fauve de Bretagne', 'Drever', 'Norrbottenspets', 'Redbone Coonhound']\n"
     ]
    }
   ],
   "source": [
    "y = [scaled_height,scaled_weight,groomingval,sheddingval,energyval,trainabilityval,demeanorval]\n",
    "estimate_dog_breed(breed_data, y)\n",
    "estimate_dog_cluster(classes, y)"
   ]
  },
  {
   "cell_type": "code",
   "execution_count": null,
   "id": "4b1a5e91-d615-4184-a7f7-00d4ee5b6b30",
   "metadata": {},
   "outputs": [],
   "source": []
  }
 ],
 "metadata": {
  "kernelspec": {
   "display_name": "Python 3 (ipykernel)",
   "language": "python",
   "name": "python3"
  },
  "language_info": {
   "codemirror_mode": {
    "name": "ipython",
    "version": 3
   },
   "file_extension": ".py",
   "mimetype": "text/x-python",
   "name": "python",
   "nbconvert_exporter": "python",
   "pygments_lexer": "ipython3",
   "version": "3.12.7"
  }
 },
 "nbformat": 4,
 "nbformat_minor": 5
}
