{
 "cells": [
  {
   "cell_type": "code",
   "execution_count": 66,
   "id": "601fc6e6-4209-46e1-9de0-7b88ac51cbc1",
   "metadata": {},
   "outputs": [],
   "source": [
    "import pandas as pd\n",
    "import numpy as np\n",
    "from scipy.optimize import minimize\n",
    "import re\n",
    "from sklearn.feature_extraction.text import TfidfVectorizer"
   ]
  },
  {
   "cell_type": "code",
   "execution_count": 82,
   "id": "6e21694b-4fad-4b94-a28d-990cf80a93c4",
   "metadata": {},
   "outputs": [],
   "source": [
    "df = pd.read_csv(\"dogdata.csv\")\n",
    "df['Breed'] = df.iloc[:,0]\n",
    "df1 = df[['Breed', 'description', 'temperament']]\n",
    "df1 = df1.dropna()\n",
    "df1['combined'] = df1['description'] + ' ' + df['temperament']\n",
    "breed_desc_data = df1[['Breed', 'combined']]"
   ]
  },
  {
   "cell_type": "code",
   "execution_count": 85,
   "id": "ee95414d-c7bb-4e1c-926e-3ebf8010b4d7",
   "metadata": {},
   "outputs": [],
   "source": [
    "# Custom tokenizer to remove punctuation\n",
    "def custom_tokenizer(text):\n",
    "    # Remove punctuation and split by whitespace\n",
    "    return re.sub(r'[^\\w\\s]', '', text).split()\n",
    "\n",
    "# Apply custom tokenizer during vectorization\n",
    "vectorizer = TfidfVectorizer(tokenizer=custom_tokenizer, stop_words=\"english\")\n",
    "tfidf_matrix = vectorizer.fit_transform(breed_desc_data['combined'])  # (m x n)\n",
    "\n",
    "def estimate_dog_breedtfidf(tfidf_matrix, y):\n",
    "    # Prepare data for use in loss function\n",
    "    target_vector = vectorizer.transform([y])  # (1 x n)\n",
    "    # Convert to dense arrays\n",
    "    X = tfidf_matrix.toarray().T  # Sentence matrix (m x n)\n",
    "    v_x = target_vector.toarray().flatten()  # Target vector (1 x n)\n",
    "    \n",
    "    # Defining the loss function (SSE) to minimise\n",
    "    def lossSSE(w):\n",
    "        est = X @ w\n",
    "        diffsqrd = (est - v_x) ** 2\n",
    "        SSE = diffsqrd.sum()\n",
    "        return SSE\n",
    "        \n",
    "    # Defining constraint: Elements of w must sum to 1\n",
    "    constraint = {'type': 'eq', 'fun': lambda w: np.sum(w) - 1}\n",
    "    \n",
    "    # Initial guess of weights (Random values between 0 and 1)\n",
    "    w0 = np.random.uniform(0, 1, size=X.shape[1])\n",
    "    \n",
    "    # Normalise initial guess to meet constraint\n",
    "    w0 /= np.sum(w0)\n",
    "    \n",
    "    # Define bounds [0,1] for all weights\n",
    "    bounds = [(0, 1) for _ in range(X.shape[1])]\n",
    "    \n",
    "    # Minimize using SLSQP (supports constraints)\n",
    "    result = minimize(lossSSE, w0, method='SLSQP', bounds=bounds, constraints=[constraint])\n",
    "    w_adjusted = result.x\n",
    "    \n",
    "    # Find indices of top 4 values\n",
    "    top_indices = np.argsort(w_adjusted)[-4:]\n",
    "    \n",
    "    # Create a mask to zero out other values\n",
    "    mask = np.zeros_like(w_adjusted, dtype=bool)\n",
    "    mask[top_indices] = True\n",
    "    \n",
    "    # Update array with the mask\n",
    "    w_adjusted[~mask] = 0\n",
    "    \n",
    "    # Renormalize to sum to 1\n",
    "    if np.sum(w_adjusted) > 0:\n",
    "        w_adjusted /= np.sum(w_adjusted)  # Normalize to sum to 1\n",
    "    # Discard weights less than 0.1\n",
    "    w_adjusted = np.where(result.x < 0.1, 0, result.x)\n",
    "    # Renormalize to sum to 1\n",
    "    if np.sum(w_adjusted) > 0:\n",
    "        w_adjusted /= np.sum(w_adjusted)  # Normalize to sum to 1\n",
    "    return w_adjusted\n",
    "\n",
    "# Defining some functions that allow us to analyse and display results:\n",
    "\n",
    "def get_breed0(w_adjusted):\n",
    "    breed_indices = [i for i in range(len(w_adjusted)) if w_adjusted[i] != 0]\n",
    "    if len(breed_indices) == 1:\n",
    "        return breed_indices[0]\n",
    "    else:\n",
    "        return None\n",
    "\n",
    "def get_breeds(w_adjusted):\n",
    "    breed_indices = [i for i in range(len(w_adjusted)) if w_adjusted[i] != 0]\n",
    "    if breed_indices:\n",
    "        return breed_indices\n",
    "    else:\n",
    "        return None\n",
    "    \n",
    "def print_breed_guess(w_adjusted):\n",
    "    # Print results\n",
    "    percents = [round(i*100, 0) for i in w_adjusted if i != 0]\n",
    "    breeds = [breed_desc_data.iloc[i, 0] for i in range(len(w_adjusted)) if w_adjusted[i] != 0]\n",
    "    major_dog_i = np.argmax(percents)\n",
    "    if not breeds:\n",
    "        print(\"We were unable to determine a breed mixture for your dog\")\n",
    "    else:\n",
    "        print('We estimate your dog to be:')\n",
    "        for i in range(len(breeds)):\n",
    "            print(percents[i], '% ', breeds[i])\n",
    "        print(f'The {breeds[major_dog_i]} has the following traits and demands:')\n",
    "        row = df[df['Breed'] == breeds[major_dog_i]]\n",
    "        metrics = ['grooming_frequency_category','shedding_category','energy_level_category','trainability_category','demeanor_category']\n",
    "        for i in metrics:\n",
    "            print(f'{i} = {row[i].iloc[0]}')"
   ]
  },
  {
   "cell_type": "markdown",
   "id": "d81c5d34-ba6a-462f-93c8-a8c644fe3e50",
   "metadata": {},
   "source": [
    "### Tests"
   ]
  },
  {
   "cell_type": "code",
   "execution_count": null,
   "id": "2369a0c3-c635-40c0-b4ae-de50314423fc",
   "metadata": {},
   "outputs": [
    {
     "name": "stdout",
     "output_type": "stream",
     "text": [
      "We estimate your dog to be:\n",
      "100.0 %  Affenpinscher\n"
     ]
    }
   ],
   "source": [
    "data = breed_desc_data.drop(columns=['Breed'])\n",
    "assert get_breed0(estimate_dog_breedtfidf(tfidf_matrix, data.iloc[0]['combined'])) == 0, \"Should be classed as breed 0, i.e Affenpinscher\"\n",
    "print_breed_guess(estimate_dog_breedtfidf(tfidf_matrix, data.iloc[0]['combined']))"
   ]
  },
  {
   "cell_type": "markdown",
   "id": "a428a9d9-c1a3-4bd7-890d-73dbde3d7c11",
   "metadata": {},
   "source": [
    "### Taking User Inputs"
   ]
  },
  {
   "cell_type": "code",
   "execution_count": 88,
   "id": "afd7db2a-5c0a-4dfb-88ec-5639e7ba635d",
   "metadata": {},
   "outputs": [
    {
     "name": "stdin",
     "output_type": "stream",
     "text": [
      "Please describe the dog as best as you can. This may include anything from the dogs physical appearance to the dogs percieved temperament or character... playful boy who is eager to find a loving and patient home where he can thrive. He enjoys attention but isn't always used to it, and sometimes can find all the fuss a bit overwhelming. Ted will need a home where his new family understands his need for gentle interaction and patience as he adjusts.  Ted will need a private secure garden so he can have regular off lead exercise.\n"
     ]
    },
    {
     "name": "stdout",
     "output_type": "stream",
     "text": [
      "We estimate your dog to be:\n",
      "17.0 %  Bulldog\n",
      "34.0 %  Chinook\n",
      "30.0 %  German Wirehaired Pointer\n",
      "20.0 %  Stabyhoun\n",
      "The Chinook has the following traits and demands:\n",
      "grooming_frequency_category = Weekly Brushing\n",
      "shedding_category = Seasonal\n",
      "energy_level_category = Energetic\n",
      "trainability_category = Eager to Please\n",
      "demeanor_category = Friendly\n"
     ]
    }
   ],
   "source": [
    "y = input('Please describe the dog as best as you can. This may include anything from the dogs physical appearance to the dogs percieved temperament or character...')\n",
    "print_breed_guess(estimate_dog_breedtfidf(tfidf_matrix, y))"
   ]
  },
  {
   "cell_type": "markdown",
   "id": "f221663d-ed02-4172-ae18-043a90463bb7",
   "metadata": {},
   "source": [
    "### Accuracy"
   ]
  },
  {
   "cell_type": "code",
   "execution_count": null,
   "id": "771c8133-a772-481f-9c66-52c77eba9104",
   "metadata": {},
   "outputs": [],
   "source": [
    "# Calculating Accuracy for Tfidf - SSE function\n",
    "count = 0\n",
    "for i in range(len(data)):\n",
    "    if i == get_breed0(estimate_dog_breedtfidf(tfidf_matrix, data.iloc[i]['combined'])):\n",
    "        count += 1\n",
    "    if i%5==0:\n",
    "        print(\"Breed\", i, \"complete.\")\n",
    "accuracy_SSE = count*100/len(data)\n",
    "print(\"Accuracy using SSE loss on on Tfidf processed descriptions from Pure Breed Data = \", accuracy_SSE, \"%\")\n",
    "# Accuracy ~ 99%"
   ]
  }
 ],
 "metadata": {
  "kernelspec": {
   "display_name": "Python 3 (ipykernel)",
   "language": "python",
   "name": "python3"
  },
  "language_info": {
   "codemirror_mode": {
    "name": "ipython",
    "version": 3
   },
   "file_extension": ".py",
   "mimetype": "text/x-python",
   "name": "python",
   "nbconvert_exporter": "python",
   "pygments_lexer": "ipython3",
   "version": "3.12.7"
  }
 },
 "nbformat": 4,
 "nbformat_minor": 5
}
