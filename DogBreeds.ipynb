{
 "cells": [
  {
   "cell_type": "markdown",
   "id": "c815a073-e6b4-4361-82b6-eed0900fb6e7",
   "metadata": {},
   "source": [
    "### Installing Dependencies"
   ]
  },
  {
   "cell_type": "code",
   "execution_count": 1,
   "id": "cba494d3-c951-4b52-886d-4c1bc469a9ed",
   "metadata": {},
   "outputs": [],
   "source": [
    "import pandas as pd\n",
    "import numpy as np\n",
    "import random\n",
    "from scipy.optimize import minimize"
   ]
  },
  {
   "cell_type": "markdown",
   "id": "501a16e7-5058-40de-ba75-5d7f28de4a3c",
   "metadata": {},
   "source": [
    "### Preprocessing and Cleaning Data"
   ]
  },
  {
   "cell_type": "code",
   "execution_count": 28,
   "id": "be5c715b-e63f-4468-9fbe-f53e6fa4c529",
   "metadata": {},
   "outputs": [
    {
     "name": "stdout",
     "output_type": "stream",
     "text": [
      "Cleaned data saved to 'breed_data_cleaned.csv'\n"
     ]
    }
   ],
   "source": [
    "df = pd.read_csv(\"dogdata.csv\")\n",
    "\n",
    "# Preprocessing:\n",
    "# Calculate average height\n",
    "df['avg_height'] = (df['min_height'] + df['max_height']) / 2\n",
    "# Calculate average weight\n",
    "df['avg_weight'] = (df['min_weight'] + df['max_weight']) / 2\n",
    "# Calculate max value of max_height\n",
    "max_height = df['max_height'].max()\n",
    "# Calculate max value of max_weight\n",
    "max_weight = df['max_weight'].max()\n",
    "# Apply Max Scaling\n",
    "df['scaled_avg_height'] = df['avg_height'] / max_height\n",
    "df['scaled_avg_weight'] = df['avg_weight'] / max_weight\n",
    "# Put Scaled and Relevant data into new dataframe\n",
    "breed_data = df[['scaled_avg_height','scaled_avg_weight','grooming_frequency_value','shedding_value','energy_level_value','trainability_value','demeanor_value']]\n",
    "breed_data = pd.concat([df.iloc[:,0], breed_data], axis=1)\n",
    "breed_data.columns.values[0] = 'Breeds'\n",
    "\n",
    "# Cleaning:\n",
    "# Remove rows with NaN values \n",
    "breed_data_cleaned = breed_data.dropna()\n",
    "# Save the cleaned DataFrame to a new CSV file\n",
    "breed_data_cleaned.to_csv('breed_data_cleaned.csv', index=False)\n",
    "print(\"Cleaned data saved to 'breed_data_cleaned.csv'\")"
   ]
  },
  {
   "cell_type": "markdown",
   "id": "d0bfc685-a353-472c-a1e0-4ccb0f49b1b2",
   "metadata": {},
   "source": [
    "### Defining function for determining optimal breed combination"
   ]
  },
  {
   "cell_type": "code",
   "execution_count": 26,
   "id": "4d94cc68-d7ca-473e-ab39-47056f3a8ca6",
   "metadata": {},
   "outputs": [],
   "source": [
    "# Prepare data for use in loss function\n",
    "data = breed_data_cleaned.drop(columns=['Breeds'])\n",
    "B = np.asarray(data).T\n",
    "\n",
    "def estimate_dog_breed(B, y):\n",
    "    # Defining the loss function (SSE) to minimise\n",
    "    def loss(w):\n",
    "        x = B @ w\n",
    "        diffsqrd = (x - y) ** 2\n",
    "        return diffsqrd.sum() # SSE\n",
    "\n",
    "    # Defining constraint: Elements of w must sum to 1\n",
    "    constraint = {'type': 'eq', 'fun': lambda w: np.sum(w) - 1}\n",
    "\n",
    "    # Initial guess of weights (Random values between 0 and 1)\n",
    "    w0 = np.random.uniform(0, 1, size=B.shape[1])\n",
    "    # Normalise initial guess to meet constraint\n",
    "    w0 /= np.sum(w0)\n",
    "\n",
    "    # Define bounds [0,1] for all weights\n",
    "    bounds = [(0, 1) for _ in range(B.shape[1])]\n",
    "\n",
    "    # Minimize using SLSQP (supports constraints)\n",
    "    result = minimize(loss, w0, method='SLSQP', bounds=bounds, constraints=[constraint])\n",
    "\n",
    "    # Discard weights of less than 0.1\n",
    "    w_adjusted = np.where(result.x < 0.1, 0, result.x)\n",
    "\n",
    "    # Renormalize to sum to 1\n",
    "    if np.sum(w_adjusted) > 0:\n",
    "        w_adjusted /= np.sum(w_adjusted)  # Normalize to sum to 1\n",
    "\n",
    "    # Print results\n",
    "    percents = [round(i*100, 0) for i in w_adjusted if i != 0]\n",
    "    breeds = [breed_data_cleaned.iloc[i, 0] for i in range(len(w_adjusted)) if w_adjusted[i] != 0]\n",
    "    print('We estimate your dog to be:')\n",
    "    for i in range(len(breeds)):\n",
    "        print(percents[i], '% ', breeds[i])"
   ]
  },
  {
   "cell_type": "markdown",
   "id": "5fa2598c-94cd-49ae-b0e3-532520f247d7",
   "metadata": {},
   "source": [
    "### Run the following Cell Tests"
   ]
  },
  {
   "cell_type": "code",
   "execution_count": 33,
   "id": "492e0ffd-ecaf-45a2-99d9-b14dd24bd1c4",
   "metadata": {},
   "outputs": [
    {
     "name": "stdout",
     "output_type": "stream",
     "text": [
      "We estimate your dog to be:\n",
      "100.0 %  Affenpinscher\n",
      "We estimate your dog to be:\n",
      "100.0 %  Afghan Hound\n",
      "We estimate your dog to be:\n",
      "100.0 %  Airedale Terrier\n"
     ]
    }
   ],
   "source": [
    "estimate_dog_breed(B, data.iloc[0]) # Affenpinscher\n",
    "estimate_dog_breed(B, data.iloc[1]) # Afghan Hound\n",
    "estimate_dog_breed(B, data.iloc[2]) # Airedale Terrier"
   ]
  },
  {
   "cell_type": "markdown",
   "id": "4b5b2e82-93ca-4cce-85bb-6fcf0d2e9bcd",
   "metadata": {},
   "source": [
    "### Taking User inputs"
   ]
  },
  {
   "cell_type": "code",
   "execution_count": 11,
   "id": "68a59591-8453-4058-a287-988cb6b08dc0",
   "metadata": {},
   "outputs": [
    {
     "ename": "KeyboardInterrupt",
     "evalue": "Interrupted by user",
     "output_type": "error",
     "traceback": [
      "\u001b[1;31m---------------------------------------------------------------------------\u001b[0m",
      "\u001b[1;31mKeyboardInterrupt\u001b[0m                         Traceback (most recent call last)",
      "Cell \u001b[1;32mIn[11], line 1\u001b[0m\n\u001b[1;32m----> 1\u001b[0m age \u001b[38;5;241m=\u001b[39m \u001b[38;5;28mint\u001b[39m(\u001b[38;5;28minput\u001b[39m(\u001b[38;5;124m'\u001b[39m\u001b[38;5;124mHow old is your dog in earth years?\u001b[39m\u001b[38;5;124m'\u001b[39m))\n\u001b[0;32m      2\u001b[0m \u001b[38;5;28;01mif\u001b[39;00m age \u001b[38;5;241m<\u001b[39m\u001b[38;5;241m=\u001b[39m \u001b[38;5;241m3\u001b[39m:\n\u001b[0;32m      3\u001b[0m     \u001b[38;5;28mprint\u001b[39m(\u001b[38;5;124m\"\u001b[39m\u001b[38;5;124mPlease understand that your dog is still young and may not have yet developed all of the attributes of it\u001b[39m\u001b[38;5;124m'\u001b[39m\u001b[38;5;124ms breed or breed mixture. This makes it far more difficult to guess it\u001b[39m\u001b[38;5;124m'\u001b[39m\u001b[38;5;124ms breed / breed mixture.\u001b[39m\u001b[38;5;124m\"\u001b[39m)\n",
      "File \u001b[1;32mC:\\anaconda3\\Lib\\site-packages\\ipykernel\\kernelbase.py:1262\u001b[0m, in \u001b[0;36mKernel.raw_input\u001b[1;34m(self, prompt)\u001b[0m\n\u001b[0;32m   1260\u001b[0m     msg \u001b[38;5;241m=\u001b[39m \u001b[38;5;124m\"\u001b[39m\u001b[38;5;124mraw_input was called, but this frontend does not support input requests.\u001b[39m\u001b[38;5;124m\"\u001b[39m\n\u001b[0;32m   1261\u001b[0m     \u001b[38;5;28;01mraise\u001b[39;00m StdinNotImplementedError(msg)\n\u001b[1;32m-> 1262\u001b[0m \u001b[38;5;28;01mreturn\u001b[39;00m \u001b[38;5;28mself\u001b[39m\u001b[38;5;241m.\u001b[39m_input_request(\n\u001b[0;32m   1263\u001b[0m     \u001b[38;5;28mstr\u001b[39m(prompt),\n\u001b[0;32m   1264\u001b[0m     \u001b[38;5;28mself\u001b[39m\u001b[38;5;241m.\u001b[39m_parent_ident[\u001b[38;5;124m\"\u001b[39m\u001b[38;5;124mshell\u001b[39m\u001b[38;5;124m\"\u001b[39m],\n\u001b[0;32m   1265\u001b[0m     \u001b[38;5;28mself\u001b[39m\u001b[38;5;241m.\u001b[39mget_parent(\u001b[38;5;124m\"\u001b[39m\u001b[38;5;124mshell\u001b[39m\u001b[38;5;124m\"\u001b[39m),\n\u001b[0;32m   1266\u001b[0m     password\u001b[38;5;241m=\u001b[39m\u001b[38;5;28;01mFalse\u001b[39;00m,\n\u001b[0;32m   1267\u001b[0m )\n",
      "File \u001b[1;32mC:\\anaconda3\\Lib\\site-packages\\ipykernel\\kernelbase.py:1305\u001b[0m, in \u001b[0;36mKernel._input_request\u001b[1;34m(self, prompt, ident, parent, password)\u001b[0m\n\u001b[0;32m   1302\u001b[0m \u001b[38;5;28;01mexcept\u001b[39;00m \u001b[38;5;167;01mKeyboardInterrupt\u001b[39;00m:\n\u001b[0;32m   1303\u001b[0m     \u001b[38;5;66;03m# re-raise KeyboardInterrupt, to truncate traceback\u001b[39;00m\n\u001b[0;32m   1304\u001b[0m     msg \u001b[38;5;241m=\u001b[39m \u001b[38;5;124m\"\u001b[39m\u001b[38;5;124mInterrupted by user\u001b[39m\u001b[38;5;124m\"\u001b[39m\n\u001b[1;32m-> 1305\u001b[0m     \u001b[38;5;28;01mraise\u001b[39;00m \u001b[38;5;167;01mKeyboardInterrupt\u001b[39;00m(msg) \u001b[38;5;28;01mfrom\u001b[39;00m \u001b[38;5;28;01mNone\u001b[39;00m\n\u001b[0;32m   1306\u001b[0m \u001b[38;5;28;01mexcept\u001b[39;00m \u001b[38;5;167;01mException\u001b[39;00m:\n\u001b[0;32m   1307\u001b[0m     \u001b[38;5;28mself\u001b[39m\u001b[38;5;241m.\u001b[39mlog\u001b[38;5;241m.\u001b[39mwarning(\u001b[38;5;124m\"\u001b[39m\u001b[38;5;124mInvalid Message:\u001b[39m\u001b[38;5;124m\"\u001b[39m, exc_info\u001b[38;5;241m=\u001b[39m\u001b[38;5;28;01mTrue\u001b[39;00m)\n",
      "\u001b[1;31mKeyboardInterrupt\u001b[0m: Interrupted by user"
     ]
    }
   ],
   "source": [
    "age = int(input('How old is your dog in earth years?'))\n",
    "if age <= 3:\n",
    "    print(\"Please understand that your dog is still young and may not have yet developed all of the attributes of it's breed or breed mixture. This makes it far more difficult to guess it's breed / breed mixture.\")"
   ]
  },
  {
   "cell_type": "code",
   "execution_count": 180,
   "id": "f501b73c-4f33-440c-b9c3-570eecc4dd8d",
   "metadata": {},
   "outputs": [
    {
     "name": "stdin",
     "output_type": "stream",
     "text": [
      "What height is your dog (cm)? 30\n"
     ]
    }
   ],
   "source": [
    "height = int(input('What height is your dog (cm)?'))\n",
    "scaled_height = height / max_height"
   ]
  },
  {
   "cell_type": "code",
   "execution_count": 181,
   "id": "ed648bf9-386a-419c-b234-63b48921636b",
   "metadata": {},
   "outputs": [
    {
     "name": "stdin",
     "output_type": "stream",
     "text": [
      "What weight is your dog (kg)? 7\n"
     ]
    }
   ],
   "source": [
    "weight = int(input('What weight is your dog (kg)?'))\n",
    "scaled_weight = weight / max_weight"
   ]
  },
  {
   "cell_type": "code",
   "execution_count": 182,
   "id": "bb678d32-2cfc-4ab2-bc4c-02b532cdcaf3",
   "metadata": {},
   "outputs": [
    {
     "name": "stdout",
     "output_type": "stream",
     "text": [
      "0 2-3 Times a Week Brushing\n",
      "1 Daily Brushing\n",
      "2 Occasional Bath/Brush\n",
      "3 Weekly Brushing\n",
      "4 Specialty/Professional\n"
     ]
    },
    {
     "name": "stdin",
     "output_type": "stream",
     "text": [
      "From the above unordered list, enter the number that corresponds to the option that best describes your dogs grooming demands. 2\n"
     ]
    }
   ],
   "source": [
    "groomingvals = [i for i in df['grooming_frequency_value'].dropna().unique()]\n",
    "groomingfreqs = [i for i in df['grooming_frequency_category'].dropna().unique()]\n",
    "for i in groomingfreqs:\n",
    "    print(groomingfreqs.index(i), i)\n",
    "groomingval = groomingvals[int(input('From the above unordered list, enter the number that corresponds to the option that best describes your dogs grooming demands.'))]"
   ]
  },
  {
   "cell_type": "code",
   "execution_count": 183,
   "id": "44c43d66-2af2-48df-aa4a-0892c94436e2",
   "metadata": {},
   "outputs": [
    {
     "name": "stdout",
     "output_type": "stream",
     "text": [
      "0 Seasonal\n",
      "1 Infrequent\n",
      "2 Occasional\n",
      "3 Regularly\n",
      "4 Frequent\n"
     ]
    },
    {
     "name": "stdin",
     "output_type": "stream",
     "text": [
      "From the above unordered list, enter the number that corresponds to the option that best describes how frequently your dog sheds it's fur. 1\n"
     ]
    }
   ],
   "source": [
    "sheddingvals = [i for i in df['shedding_value'].dropna().unique()]\n",
    "sheddingfreqs = [i for i in df['shedding_category'].dropna().unique()]\n",
    "for i in sheddingfreqs:\n",
    "    print(sheddingfreqs.index(i), i)\n",
    "sheddingval = sheddingvals[int(input(\"From the above unordered list, enter the number that corresponds to the option that best describes how frequently your dog sheds it's fur.\"))]"
   ]
  },
  {
   "cell_type": "code",
   "execution_count": 185,
   "id": "08714da7-025b-46e5-8131-7d2954d820f7",
   "metadata": {},
   "outputs": [
    {
     "name": "stdout",
     "output_type": "stream",
     "text": [
      "0 Regular Exercise\n",
      "1 Energetic\n",
      "2 Needs Lots of Activity\n",
      "3 Couch Potato\n",
      "4 Calm\n"
     ]
    },
    {
     "name": "stdin",
     "output_type": "stream",
     "text": [
      "From the above unordered list, enter the number that corresponds to the option that best describes your dog's energy level. 1\n"
     ]
    }
   ],
   "source": [
    "energyvals = [i for i in df['energy_level_value'].dropna().unique()]\n",
    "energycategs = [i for i in df['energy_level_category'].dropna().unique()]\n",
    "for i in energycategs:\n",
    "    print(energycategs.index(i), i)\n",
    "energyval = energyvals[int(input(\"From the above unordered list, enter the number that corresponds to the option that best describes your dog's energy level.\"))]"
   ]
  },
  {
   "cell_type": "code",
   "execution_count": 186,
   "id": "c98719f8-f2fb-4abe-8289-9c01739ba7d4",
   "metadata": {},
   "outputs": [
    {
     "name": "stdout",
     "output_type": "stream",
     "text": [
      "0 Easy Training\n",
      "1 May be Stubborn\n",
      "2 Eager to Please\n",
      "3 Independent\n",
      "4 Agreeable\n"
     ]
    },
    {
     "name": "stdin",
     "output_type": "stream",
     "text": [
      "From the above unordered list, enter the number that corresponds to the option that best describes how easy your dog is to train. 2\n"
     ]
    }
   ],
   "source": [
    "trainabilityvals = [i for i in df['trainability_value'].dropna().unique()]\n",
    "trainabilitycategs = [i for i in df['trainability_category'].dropna().unique()]\n",
    "for i in trainabilitycategs:\n",
    "    print(trainabilitycategs.index(i), i)\n",
    "trainabilityval = trainabilityvals[int(input(\"From the above unordered list, enter the number that corresponds to the option that best describes how easy your dog is to train.\"))]"
   ]
  },
  {
   "cell_type": "code",
   "execution_count": 187,
   "id": "7f53a60e-dfa2-466b-8687-80966d0c3cfc",
   "metadata": {},
   "outputs": [
    {
     "name": "stdout",
     "output_type": "stream",
     "text": [
      "0 Outgoing\n",
      "1 Aloof/Wary\n",
      "2 Friendly\n",
      "3 Alert/Responsive\n",
      "4 Reserved with Strangers\n"
     ]
    },
    {
     "name": "stdin",
     "output_type": "stream",
     "text": [
      "From the above unordered list, enter the number that corresponds to the option that best describes the demeanor of your dog. 2\n"
     ]
    }
   ],
   "source": [
    "demeanorvals = [i for i in df['demeanor_value'].dropna().unique()]\n",
    "demeanorcategs = [i for i in df['demeanor_category'].dropna().unique()]\n",
    "for i in demeanorcategs:\n",
    "    print(demeanorcategs.index(i), i)\n",
    "demeanorval = demeanorvals[int(input(\"From the above unordered list, enter the number that corresponds to the option that best describes the demeanor of your dog.\"))]"
   ]
  },
  {
   "cell_type": "code",
   "execution_count": 188,
   "id": "1fb50b52-7aff-464a-8aef-fe32750b25be",
   "metadata": {},
   "outputs": [
    {
     "name": "stdout",
     "output_type": "stream",
     "text": [
      "[0.22703412073490814, 0.06430149313725596, 0.2, 0.2, 0.8, 1.0, 0.8]\n"
     ]
    }
   ],
   "source": [
    "y = [scaled_height,scaled_weight,groomingval,sheddingval,energyval,trainabilityval,demeanorval]\n",
    "estimate_dog_breed(B, y)"
   ]
  }
 ],
 "metadata": {
  "kernelspec": {
   "display_name": "Python 3 (ipykernel)",
   "language": "python",
   "name": "python3"
  },
  "language_info": {
   "codemirror_mode": {
    "name": "ipython",
    "version": 3
   },
   "file_extension": ".py",
   "mimetype": "text/x-python",
   "name": "python",
   "nbconvert_exporter": "python",
   "pygments_lexer": "ipython3",
   "version": "3.12.7"
  }
 },
 "nbformat": 4,
 "nbformat_minor": 5
}
